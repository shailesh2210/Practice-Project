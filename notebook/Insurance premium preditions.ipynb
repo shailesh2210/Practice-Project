{
 "cells": [
  {
   "cell_type": "code",
   "execution_count": 1,
   "id": "287f8831",
   "metadata": {},
   "outputs": [],
   "source": [
    "import pandas as pd\n",
    "import numpy as np\n",
    "import matplotlib.pyplot as plt\n",
    "%matplotlib inline\n",
    "import seaborn as sns\n",
    "from sklearn.preprocessing import LabelEncoder\n",
    "from sklearn.model_selection import train_test_split\n",
    "from sklearn.linear_model import LinearRegression\n",
    "from sklearn.tree import DecisionTreeRegressor\n",
    "from sklearn.ensemble import RandomForestRegressor\n",
    "from sklearn.metrics import mean_absolute_error, mean_squared_error , r2_score\n",
    "from sklearn.model_selection import cross_val_score\n",
    "import pickle"
   ]
  },
  {
   "cell_type": "code",
   "execution_count": 2,
   "id": "347d50a0",
   "metadata": {},
   "outputs": [],
   "source": [
    "df = pd.read_csv(\"insurance.csv\")"
   ]
  },
  {
   "cell_type": "code",
   "execution_count": 3,
   "id": "ae67a4e8",
   "metadata": {},
   "outputs": [
    {
     "data": {
      "text/html": [
       "<div>\n",
       "<style scoped>\n",
       "    .dataframe tbody tr th:only-of-type {\n",
       "        vertical-align: middle;\n",
       "    }\n",
       "\n",
       "    .dataframe tbody tr th {\n",
       "        vertical-align: top;\n",
       "    }\n",
       "\n",
       "    .dataframe thead th {\n",
       "        text-align: right;\n",
       "    }\n",
       "</style>\n",
       "<table border=\"1\" class=\"dataframe\">\n",
       "  <thead>\n",
       "    <tr style=\"text-align: right;\">\n",
       "      <th></th>\n",
       "      <th>age</th>\n",
       "      <th>sex</th>\n",
       "      <th>bmi</th>\n",
       "      <th>children</th>\n",
       "      <th>smoker</th>\n",
       "      <th>region</th>\n",
       "      <th>expenses</th>\n",
       "    </tr>\n",
       "  </thead>\n",
       "  <tbody>\n",
       "    <tr>\n",
       "      <th>0</th>\n",
       "      <td>19</td>\n",
       "      <td>female</td>\n",
       "      <td>27.9</td>\n",
       "      <td>0</td>\n",
       "      <td>yes</td>\n",
       "      <td>southwest</td>\n",
       "      <td>16884.92</td>\n",
       "    </tr>\n",
       "    <tr>\n",
       "      <th>1</th>\n",
       "      <td>18</td>\n",
       "      <td>male</td>\n",
       "      <td>33.8</td>\n",
       "      <td>1</td>\n",
       "      <td>no</td>\n",
       "      <td>southeast</td>\n",
       "      <td>1725.55</td>\n",
       "    </tr>\n",
       "    <tr>\n",
       "      <th>2</th>\n",
       "      <td>28</td>\n",
       "      <td>male</td>\n",
       "      <td>33.0</td>\n",
       "      <td>3</td>\n",
       "      <td>no</td>\n",
       "      <td>southeast</td>\n",
       "      <td>4449.46</td>\n",
       "    </tr>\n",
       "    <tr>\n",
       "      <th>3</th>\n",
       "      <td>33</td>\n",
       "      <td>male</td>\n",
       "      <td>22.7</td>\n",
       "      <td>0</td>\n",
       "      <td>no</td>\n",
       "      <td>northwest</td>\n",
       "      <td>21984.47</td>\n",
       "    </tr>\n",
       "    <tr>\n",
       "      <th>4</th>\n",
       "      <td>32</td>\n",
       "      <td>male</td>\n",
       "      <td>28.9</td>\n",
       "      <td>0</td>\n",
       "      <td>no</td>\n",
       "      <td>northwest</td>\n",
       "      <td>3866.86</td>\n",
       "    </tr>\n",
       "  </tbody>\n",
       "</table>\n",
       "</div>"
      ],
      "text/plain": [
       "   age     sex   bmi  children smoker     region  expenses\n",
       "0   19  female  27.9         0    yes  southwest  16884.92\n",
       "1   18    male  33.8         1     no  southeast   1725.55\n",
       "2   28    male  33.0         3     no  southeast   4449.46\n",
       "3   33    male  22.7         0     no  northwest  21984.47\n",
       "4   32    male  28.9         0     no  northwest   3866.86"
      ]
     },
     "execution_count": 3,
     "metadata": {},
     "output_type": "execute_result"
    }
   ],
   "source": [
    "df.head()"
   ]
  },
  {
   "cell_type": "code",
   "execution_count": 4,
   "id": "fe4f8b95",
   "metadata": {},
   "outputs": [
    {
     "data": {
      "text/html": [
       "<div>\n",
       "<style scoped>\n",
       "    .dataframe tbody tr th:only-of-type {\n",
       "        vertical-align: middle;\n",
       "    }\n",
       "\n",
       "    .dataframe tbody tr th {\n",
       "        vertical-align: top;\n",
       "    }\n",
       "\n",
       "    .dataframe thead th {\n",
       "        text-align: right;\n",
       "    }\n",
       "</style>\n",
       "<table border=\"1\" class=\"dataframe\">\n",
       "  <thead>\n",
       "    <tr style=\"text-align: right;\">\n",
       "      <th></th>\n",
       "      <th>age</th>\n",
       "      <th>sex</th>\n",
       "      <th>bmi</th>\n",
       "      <th>children</th>\n",
       "      <th>smoker</th>\n",
       "      <th>region</th>\n",
       "      <th>expenses</th>\n",
       "    </tr>\n",
       "  </thead>\n",
       "  <tbody>\n",
       "    <tr>\n",
       "      <th>1333</th>\n",
       "      <td>50</td>\n",
       "      <td>male</td>\n",
       "      <td>31.0</td>\n",
       "      <td>3</td>\n",
       "      <td>no</td>\n",
       "      <td>northwest</td>\n",
       "      <td>10600.55</td>\n",
       "    </tr>\n",
       "    <tr>\n",
       "      <th>1334</th>\n",
       "      <td>18</td>\n",
       "      <td>female</td>\n",
       "      <td>31.9</td>\n",
       "      <td>0</td>\n",
       "      <td>no</td>\n",
       "      <td>northeast</td>\n",
       "      <td>2205.98</td>\n",
       "    </tr>\n",
       "    <tr>\n",
       "      <th>1335</th>\n",
       "      <td>18</td>\n",
       "      <td>female</td>\n",
       "      <td>36.9</td>\n",
       "      <td>0</td>\n",
       "      <td>no</td>\n",
       "      <td>southeast</td>\n",
       "      <td>1629.83</td>\n",
       "    </tr>\n",
       "    <tr>\n",
       "      <th>1336</th>\n",
       "      <td>21</td>\n",
       "      <td>female</td>\n",
       "      <td>25.8</td>\n",
       "      <td>0</td>\n",
       "      <td>no</td>\n",
       "      <td>southwest</td>\n",
       "      <td>2007.95</td>\n",
       "    </tr>\n",
       "    <tr>\n",
       "      <th>1337</th>\n",
       "      <td>61</td>\n",
       "      <td>female</td>\n",
       "      <td>29.1</td>\n",
       "      <td>0</td>\n",
       "      <td>yes</td>\n",
       "      <td>northwest</td>\n",
       "      <td>29141.36</td>\n",
       "    </tr>\n",
       "  </tbody>\n",
       "</table>\n",
       "</div>"
      ],
      "text/plain": [
       "      age     sex   bmi  children smoker     region  expenses\n",
       "1333   50    male  31.0         3     no  northwest  10600.55\n",
       "1334   18  female  31.9         0     no  northeast   2205.98\n",
       "1335   18  female  36.9         0     no  southeast   1629.83\n",
       "1336   21  female  25.8         0     no  southwest   2007.95\n",
       "1337   61  female  29.1         0    yes  northwest  29141.36"
      ]
     },
     "execution_count": 4,
     "metadata": {},
     "output_type": "execute_result"
    }
   ],
   "source": [
    "df.tail()"
   ]
  },
  {
   "cell_type": "markdown",
   "id": "c24006da",
   "metadata": {},
   "source": [
    "here we can see that age , bmi children and expenses are numerical features\n"
   ]
  },
  {
   "cell_type": "markdown",
   "id": "6f6b31a4",
   "metadata": {},
   "source": [
    "sex and region are categorical features"
   ]
  },
  {
   "cell_type": "code",
   "execution_count": 5,
   "id": "95123636",
   "metadata": {},
   "outputs": [
    {
     "data": {
      "text/plain": [
       "age         0\n",
       "sex         0\n",
       "bmi         0\n",
       "children    0\n",
       "smoker      0\n",
       "region      0\n",
       "expenses    0\n",
       "dtype: int64"
      ]
     },
     "execution_count": 5,
     "metadata": {},
     "output_type": "execute_result"
    }
   ],
   "source": [
    "#  here we will check the missing values in our DataFrame\n",
    "df.isnull().sum()\n"
   ]
  },
  {
   "cell_type": "markdown",
   "id": "a16b46b3",
   "metadata": {},
   "source": [
    "###### there are no missing values in the dataset"
   ]
  },
  {
   "cell_type": "markdown",
   "id": "266a19ce",
   "metadata": {},
   "source": [
    "here we can see that there are no missing values in our data frame"
   ]
  },
  {
   "cell_type": "code",
   "execution_count": 6,
   "id": "030cde86",
   "metadata": {},
   "outputs": [],
   "source": [
    "# outliers = []\n",
    "# def outlier_detect(df):\n",
    "    \n",
    "#     threshold = 3   #75% percentile\n",
    "#     mean = np.mean(df)\n",
    "#     std = np.std(df)\n",
    "    \n",
    "#     for i in df:\n",
    "#         z_score = (i - mean)/std\n",
    "#         if np.abs(z_score)>threshold:\n",
    "#             outliers.append(i)\n",
    "#         return outliers"
   ]
  },
  {
   "cell_type": "code",
   "execution_count": 7,
   "id": "f55922fe",
   "metadata": {},
   "outputs": [
    {
     "data": {
      "image/png": "[encoded data removed]",
      "text/plain": [
       "<Figure size 432x288 with 1 Axes>"
      ]
     },
     "metadata": {
      "needs_background": "light"
     },
     "output_type": "display_data"
    }
   ],
   "source": [
    "figure = df.boxplot(column=\"age\")"
   ]
  },
  {
   "cell_type": "code",
   "execution_count": 8,
   "id": "af92590c",
   "metadata": {},
   "outputs": [
    {
     "data": {
      "text/plain": [
       "count    1338.000000\n",
       "mean       39.207025\n",
       "std        14.049960\n",
       "min        18.000000\n",
       "25%        27.000000\n",
       "50%        39.000000\n",
       "75%        51.000000\n",
       "max        64.000000\n",
       "Name: age, dtype: float64"
      ]
     },
     "execution_count": 8,
     "metadata": {},
     "output_type": "execute_result"
    }
   ],
   "source": [
    "df[\"age\"].describe()"
   ]
  },
  {
   "cell_type": "code",
   "execution_count": 9,
   "id": "bc41db3b",
   "metadata": {},
   "outputs": [
    {
     "data": {
      "image/png": "[encoded data removed]",
      "text/plain": [
       "<Figure size 432x288 with 1 Axes>"
      ]
     },
     "metadata": {
      "needs_background": "light"
     },
     "output_type": "display_data"
    }
   ],
   "source": [
    "figure2 = df.boxplot(column=\"children\")"
   ]
  },
  {
   "cell_type": "code",
   "execution_count": 10,
   "id": "7cbb3433",
   "metadata": {},
   "outputs": [
    {
     "data": {
      "text/plain": [
       "count    1338.000000\n",
       "mean        1.094918\n",
       "std         1.205493\n",
       "min         0.000000\n",
       "25%         0.000000\n",
       "50%         1.000000\n",
       "75%         2.000000\n",
       "max         5.000000\n",
       "Name: children, dtype: float64"
      ]
     },
     "execution_count": 10,
     "metadata": {},
     "output_type": "execute_result"
    }
   ],
   "source": [
    "df[\"children\"].describe()"
   ]
  },
  {
   "cell_type": "code",
   "execution_count": 11,
   "id": "0df52af9",
   "metadata": {},
   "outputs": [
    {
     "data": {
      "image/png": "[encoded data removed]",
      "text/plain": [
       "<Figure size 432x288 with 1 Axes>"
      ]
     },
     "metadata": {
      "needs_background": "light"
     },
     "output_type": "display_data"
    }
   ],
   "source": [
    "figure3 = df.boxplot(column=\"bmi\")"
   ]
  },
  {
   "cell_type": "code",
   "execution_count": 12,
   "id": "802c31bb",
   "metadata": {},
   "outputs": [
    {
     "data": {
      "text/plain": [
       "count    1338.000000\n",
       "mean       30.665471\n",
       "std         6.098382\n",
       "min        16.000000\n",
       "25%        26.300000\n",
       "50%        30.400000\n",
       "75%        34.700000\n",
       "max        53.100000\n",
       "Name: bmi, dtype: float64"
      ]
     },
     "execution_count": 12,
     "metadata": {},
     "output_type": "execute_result"
    }
   ],
   "source": [
    "df[\"bmi\"].describe()"
   ]
  },
  {
   "cell_type": "markdown",
   "id": "91784863",
   "metadata": {},
   "source": [
    "#### from the observation observation we can see that age and children column has no outliers but in the bmi column are some of outliers are present"
   ]
  },
  {
   "cell_type": "markdown",
   "id": "5aa0e493",
   "metadata": {},
   "source": [
    "# EDA"
   ]
  },
  {
   "cell_type": "code",
   "execution_count": 13,
   "id": "1100d4ad",
   "metadata": {},
   "outputs": [
    {
     "data": {
      "text/plain": [
       "<AxesSubplot:xlabel='age', ylabel='Count'>"
      ]
     },
     "execution_count": 13,
     "metadata": {},
     "output_type": "execute_result"
    },
    {
     "data": {
      "image/png": "[encoded data removed]",
      "text/plain": [
       "<Figure size 432x288 with 1 Axes>"
      ]
     },
     "metadata": {
      "needs_background": "light"
     },
     "output_type": "display_data"
    }
   ],
   "source": [
    "sns.histplot(df[\"age\"])"
   ]
  },
  {
   "cell_type": "code",
   "execution_count": 14,
   "id": "ed794d78",
   "metadata": {},
   "outputs": [
    {
     "name": "stderr",
     "output_type": "stream",
     "text": [
      "C:\\Users\\shail\\anaconda3\\lib\\site-packages\\seaborn\\distributions.py:2557: FutureWarning: `distplot` is a deprecated function and will be removed in a future version. Please adapt your code to use either `displot` (a figure-level function with similar flexibility) or `histplot` (an axes-level function for histograms).\n",
      "  warnings.warn(msg, FutureWarning)\n"
     ]
    },
    {
     "data": {
      "text/plain": [
       "<AxesSubplot:xlabel='age', ylabel='Density'>"
      ]
     },
     "execution_count": 14,
     "metadata": {},
     "output_type": "execute_result"
    },
    {
     "data": {
      "image/png": "[encoded data removed]",
      "text/plain": [
       "<Figure size 432x288 with 1 Axes>"
      ]
     },
     "metadata": {
      "needs_background": "light"
     },
     "output_type": "display_data"
    }
   ],
   "source": [
    "sns.distplot(df[\"age\"])"
   ]
  },
  {
   "cell_type": "code",
   "execution_count": 15,
   "id": "88484b67",
   "metadata": {},
   "outputs": [
    {
     "data": {
      "text/plain": [
       "18    69\n",
       "19    68\n",
       "20    29\n",
       "51    29\n",
       "45    29\n",
       "46    29\n",
       "47    29\n",
       "48    29\n",
       "50    29\n",
       "52    29\n",
       "28    28\n",
       "54    28\n",
       "21    28\n",
       "27    28\n",
       "26    28\n",
       "49    28\n",
       "25    28\n",
       "24    28\n",
       "23    28\n",
       "22    28\n",
       "53    28\n",
       "42    27\n",
       "44    27\n",
       "43    27\n",
       "41    27\n",
       "40    27\n",
       "31    27\n",
       "30    27\n",
       "29    27\n",
       "56    26\n",
       "34    26\n",
       "33    26\n",
       "32    26\n",
       "57    26\n",
       "55    26\n",
       "35    25\n",
       "59    25\n",
       "58    25\n",
       "36    25\n",
       "39    25\n",
       "38    25\n",
       "37    25\n",
       "60    23\n",
       "61    23\n",
       "62    23\n",
       "63    23\n",
       "64    22\n",
       "Name: age, dtype: int64"
      ]
     },
     "execution_count": 15,
     "metadata": {},
     "output_type": "execute_result"
    }
   ],
   "source": [
    "df[\"age\"].value_counts()"
   ]
  },
  {
   "cell_type": "code",
   "execution_count": 16,
   "id": "a7daa987",
   "metadata": {},
   "outputs": [
    {
     "data": {
      "text/plain": [
       "<AxesSubplot:xlabel='sex', ylabel='Count'>"
      ]
     },
     "execution_count": 16,
     "metadata": {},
     "output_type": "execute_result"
    },
    {
     "data": {
      "image/png": "[encoded data removed]",
      "text/plain": [
       "<Figure size 432x288 with 1 Axes>"
      ]
     },
     "metadata": {
      "needs_background": "light"
     },
     "output_type": "display_data"
    }
   ],
   "source": [
    "sns.histplot(df[\"sex\"])"
   ]
  },
  {
   "cell_type": "code",
   "execution_count": 17,
   "id": "3d8efb50",
   "metadata": {},
   "outputs": [
    {
     "data": {
      "text/plain": [
       "<AxesSubplot:ylabel='sex'>"
      ]
     },
     "execution_count": 17,
     "metadata": {},
     "output_type": "execute_result"
    },
    {
     "data": {
      "image/png": "[encoded data removed]",
      "text/plain": [
       "<Figure size 432x288 with 1 Axes>"
      ]
     },
     "metadata": {},
     "output_type": "display_data"
    }
   ],
   "source": [
    "df[\"sex\"].value_counts().plot(kind=\"pie\" , autopct=\"%2f\")"
   ]
  },
  {
   "cell_type": "code",
   "execution_count": 18,
   "id": "526890f8",
   "metadata": {},
   "outputs": [
    {
     "data": {
      "text/plain": [
       "<AxesSubplot:xlabel='bmi', ylabel='Count'>"
      ]
     },
     "execution_count": 18,
     "metadata": {},
     "output_type": "execute_result"
    },
    {
     "data": {
      "image/png": "[encoded data removed]",
      "text/plain": [
       "<Figure size 432x288 with 1 Axes>"
      ]
     },
     "metadata": {
      "needs_background": "light"
     },
     "output_type": "display_data"
    }
   ],
   "source": [
    "sns.histplot(df[\"bmi\"])"
   ]
  },
  {
   "cell_type": "code",
   "execution_count": 19,
   "id": "25e9acfc",
   "metadata": {},
   "outputs": [
    {
     "name": "stderr",
     "output_type": "stream",
     "text": [
      "C:\\Users\\shail\\anaconda3\\lib\\site-packages\\seaborn\\distributions.py:2557: FutureWarning: `distplot` is a deprecated function and will be removed in a future version. Please adapt your code to use either `displot` (a figure-level function with similar flexibility) or `histplot` (an axes-level function for histograms).\n",
      "  warnings.warn(msg, FutureWarning)\n"
     ]
    },
    {
     "data": {
      "text/plain": [
       "<AxesSubplot:xlabel='bmi', ylabel='Density'>"
      ]
     },
     "execution_count": 19,
     "metadata": {},
     "output_type": "execute_result"
    },
    {
     "data": {
      "image/png": "[encoded data removed]",
      "text/plain": [
       "<Figure size 432x288 with 1 Axes>"
      ]
     },
     "metadata": {
      "needs_background": "light"
     },
     "output_type": "display_data"
    }
   ],
   "source": [
    "sns.distplot(df[\"bmi\"])"
   ]
  },
  {
   "cell_type": "code",
   "execution_count": 20,
   "id": "eeb80365",
   "metadata": {},
   "outputs": [
    {
     "name": "stderr",
     "output_type": "stream",
     "text": [
      "C:\\Users\\shail\\anaconda3\\lib\\site-packages\\seaborn\\_decorators.py:36: FutureWarning: Pass the following variable as a keyword arg: x. From version 0.12, the only valid positional argument will be `data`, and passing other arguments without an explicit keyword will result in an error or misinterpretation.\n",
      "  warnings.warn(\n"
     ]
    },
    {
     "data": {
      "text/plain": [
       "<AxesSubplot:xlabel='children', ylabel='count'>"
      ]
     },
     "execution_count": 20,
     "metadata": {},
     "output_type": "execute_result"
    },
    {
     "data": {
      "image/png": "[encoded data removed]",
      "text/plain": [
       "<Figure size 432x288 with 1 Axes>"
      ]
     },
     "metadata": {
      "needs_background": "light"
     },
     "output_type": "display_data"
    }
   ],
   "source": [
    "sns.countplot(df[\"children\"])"
   ]
  },
  {
   "cell_type": "code",
   "execution_count": 21,
   "id": "18cfd837",
   "metadata": {},
   "outputs": [
    {
     "name": "stderr",
     "output_type": "stream",
     "text": [
      "C:\\Users\\shail\\anaconda3\\lib\\site-packages\\seaborn\\_decorators.py:36: FutureWarning: Pass the following variable as a keyword arg: x. From version 0.12, the only valid positional argument will be `data`, and passing other arguments without an explicit keyword will result in an error or misinterpretation.\n",
      "  warnings.warn(\n"
     ]
    },
    {
     "data": {
      "text/plain": [
       "<AxesSubplot:xlabel='region', ylabel='count'>"
      ]
     },
     "execution_count": 21,
     "metadata": {},
     "output_type": "execute_result"
    },
    {
     "data": {
      "image/png": "[encoded data removed]",
      "text/plain": [
       "<Figure size 432x288 with 1 Axes>"
      ]
     },
     "metadata": {
      "needs_background": "light"
     },
     "output_type": "display_data"
    }
   ],
   "source": [
    "sns.countplot(df[\"region\"])"
   ]
  },
  {
   "cell_type": "code",
   "execution_count": 22,
   "id": "41818048",
   "metadata": {},
   "outputs": [
    {
     "data": {
      "text/plain": [
       "<AxesSubplot:ylabel='region'>"
      ]
     },
     "execution_count": 22,
     "metadata": {},
     "output_type": "execute_result"
    },
    {
     "data": {
      "image/png": "[encoded data removed]",
      "text/plain": [
       "<Figure size 432x288 with 1 Axes>"
      ]
     },
     "metadata": {},
     "output_type": "display_data"
    }
   ],
   "source": [
    "df[\"region\"].value_counts().plot(kind=\"pie\" , autopct=\"%2f\")"
   ]
  },
  {
   "cell_type": "code",
   "execution_count": 23,
   "id": "d6df5902",
   "metadata": {},
   "outputs": [
    {
     "data": {
      "text/plain": [
       "southeast    364\n",
       "northwest    325\n",
       "southwest    325\n",
       "northeast    324\n",
       "Name: region, dtype: int64"
      ]
     },
     "execution_count": 23,
     "metadata": {},
     "output_type": "execute_result"
    }
   ],
   "source": [
    "df[\"region\"].value_counts()"
   ]
  },
  {
   "cell_type": "code",
   "execution_count": 24,
   "id": "ce4314b8",
   "metadata": {},
   "outputs": [
    {
     "name": "stderr",
     "output_type": "stream",
     "text": [
      "C:\\Users\\shail\\anaconda3\\lib\\site-packages\\seaborn\\_decorators.py:36: FutureWarning: Pass the following variable as a keyword arg: x. From version 0.12, the only valid positional argument will be `data`, and passing other arguments without an explicit keyword will result in an error or misinterpretation.\n",
      "  warnings.warn(\n"
     ]
    },
    {
     "data": {
      "text/plain": [
       "<AxesSubplot:xlabel='smoker', ylabel='count'>"
      ]
     },
     "execution_count": 24,
     "metadata": {},
     "output_type": "execute_result"
    },
    {
     "data": {
      "image/png": "[encoded data removed]",
      "text/plain": [
       "<Figure size 432x288 with 1 Axes>"
      ]
     },
     "metadata": {
      "needs_background": "light"
     },
     "output_type": "display_data"
    }
   ],
   "source": [
    "sns.countplot(df[\"smoker\"])"
   ]
  },
  {
   "cell_type": "code",
   "execution_count": 25,
   "id": "3b4fc259",
   "metadata": {},
   "outputs": [],
   "source": [
    "label = LabelEncoder()\n",
    "df[\"sex\"] = label.fit_transform(df[\"sex\"])\n",
    "df[\"smoker\"] = label.fit_transform(df[\"smoker\"])"
   ]
  },
  {
   "cell_type": "code",
   "execution_count": 26,
   "id": "c8ff512c",
   "metadata": {},
   "outputs": [
    {
     "data": {
      "text/html": [
       "<div>\n",
       "<style scoped>\n",
       "    .dataframe tbody tr th:only-of-type {\n",
       "        vertical-align: middle;\n",
       "    }\n",
       "\n",
       "    .dataframe tbody tr th {\n",
       "        vertical-align: top;\n",
       "    }\n",
       "\n",
       "    .dataframe thead th {\n",
       "        text-align: right;\n",
       "    }\n",
       "</style>\n",
       "<table border=\"1\" class=\"dataframe\">\n",
       "  <thead>\n",
       "    <tr style=\"text-align: right;\">\n",
       "      <th></th>\n",
       "      <th>age</th>\n",
       "      <th>sex</th>\n",
       "      <th>bmi</th>\n",
       "      <th>children</th>\n",
       "      <th>smoker</th>\n",
       "      <th>region</th>\n",
       "      <th>expenses</th>\n",
       "    </tr>\n",
       "  </thead>\n",
       "  <tbody>\n",
       "    <tr>\n",
       "      <th>0</th>\n",
       "      <td>19</td>\n",
       "      <td>0</td>\n",
       "      <td>27.9</td>\n",
       "      <td>0</td>\n",
       "      <td>1</td>\n",
       "      <td>southwest</td>\n",
       "      <td>16884.92</td>\n",
       "    </tr>\n",
       "    <tr>\n",
       "      <th>1</th>\n",
       "      <td>18</td>\n",
       "      <td>1</td>\n",
       "      <td>33.8</td>\n",
       "      <td>1</td>\n",
       "      <td>0</td>\n",
       "      <td>southeast</td>\n",
       "      <td>1725.55</td>\n",
       "    </tr>\n",
       "    <tr>\n",
       "      <th>2</th>\n",
       "      <td>28</td>\n",
       "      <td>1</td>\n",
       "      <td>33.0</td>\n",
       "      <td>3</td>\n",
       "      <td>0</td>\n",
       "      <td>southeast</td>\n",
       "      <td>4449.46</td>\n",
       "    </tr>\n",
       "    <tr>\n",
       "      <th>3</th>\n",
       "      <td>33</td>\n",
       "      <td>1</td>\n",
       "      <td>22.7</td>\n",
       "      <td>0</td>\n",
       "      <td>0</td>\n",
       "      <td>northwest</td>\n",
       "      <td>21984.47</td>\n",
       "    </tr>\n",
       "    <tr>\n",
       "      <th>4</th>\n",
       "      <td>32</td>\n",
       "      <td>1</td>\n",
       "      <td>28.9</td>\n",
       "      <td>0</td>\n",
       "      <td>0</td>\n",
       "      <td>northwest</td>\n",
       "      <td>3866.86</td>\n",
       "    </tr>\n",
       "  </tbody>\n",
       "</table>\n",
       "</div>"
      ],
      "text/plain": [
       "   age  sex   bmi  children  smoker     region  expenses\n",
       "0   19    0  27.9         0       1  southwest  16884.92\n",
       "1   18    1  33.8         1       0  southeast   1725.55\n",
       "2   28    1  33.0         3       0  southeast   4449.46\n",
       "3   33    1  22.7         0       0  northwest  21984.47\n",
       "4   32    1  28.9         0       0  northwest   3866.86"
      ]
     },
     "execution_count": 26,
     "metadata": {},
     "output_type": "execute_result"
    }
   ],
   "source": [
    "df.head()"
   ]
  },
  {
   "cell_type": "code",
   "execution_count": 27,
   "id": "1ac94fef",
   "metadata": {},
   "outputs": [],
   "source": [
    "region = pd.get_dummies(df[\"region\"], drop_first=True)"
   ]
  },
  {
   "cell_type": "code",
   "execution_count": 28,
   "id": "01a0e66d",
   "metadata": {},
   "outputs": [],
   "source": [
    "data = pd.concat([df, region], axis=1)"
   ]
  },
  {
   "cell_type": "code",
   "execution_count": 29,
   "id": "385fb4b9",
   "metadata": {},
   "outputs": [
    {
     "data": {
      "text/html": [
       "<div>\n",
       "<style scoped>\n",
       "    .dataframe tbody tr th:only-of-type {\n",
       "        vertical-align: middle;\n",
       "    }\n",
       "\n",
       "    .dataframe tbody tr th {\n",
       "        vertical-align: top;\n",
       "    }\n",
       "\n",
       "    .dataframe thead th {\n",
       "        text-align: right;\n",
       "    }\n",
       "</style>\n",
       "<table border=\"1\" class=\"dataframe\">\n",
       "  <thead>\n",
       "    <tr style=\"text-align: right;\">\n",
       "      <th></th>\n",
       "      <th>age</th>\n",
       "      <th>sex</th>\n",
       "      <th>bmi</th>\n",
       "      <th>children</th>\n",
       "      <th>smoker</th>\n",
       "      <th>region</th>\n",
       "      <th>expenses</th>\n",
       "      <th>northwest</th>\n",
       "      <th>southeast</th>\n",
       "      <th>southwest</th>\n",
       "    </tr>\n",
       "  </thead>\n",
       "  <tbody>\n",
       "    <tr>\n",
       "      <th>0</th>\n",
       "      <td>19</td>\n",
       "      <td>0</td>\n",
       "      <td>27.9</td>\n",
       "      <td>0</td>\n",
       "      <td>1</td>\n",
       "      <td>southwest</td>\n",
       "      <td>16884.92</td>\n",
       "      <td>0</td>\n",
       "      <td>0</td>\n",
       "      <td>1</td>\n",
       "    </tr>\n",
       "    <tr>\n",
       "      <th>1</th>\n",
       "      <td>18</td>\n",
       "      <td>1</td>\n",
       "      <td>33.8</td>\n",
       "      <td>1</td>\n",
       "      <td>0</td>\n",
       "      <td>southeast</td>\n",
       "      <td>1725.55</td>\n",
       "      <td>0</td>\n",
       "      <td>1</td>\n",
       "      <td>0</td>\n",
       "    </tr>\n",
       "    <tr>\n",
       "      <th>2</th>\n",
       "      <td>28</td>\n",
       "      <td>1</td>\n",
       "      <td>33.0</td>\n",
       "      <td>3</td>\n",
       "      <td>0</td>\n",
       "      <td>southeast</td>\n",
       "      <td>4449.46</td>\n",
       "      <td>0</td>\n",
       "      <td>1</td>\n",
       "      <td>0</td>\n",
       "    </tr>\n",
       "    <tr>\n",
       "      <th>3</th>\n",
       "      <td>33</td>\n",
       "      <td>1</td>\n",
       "      <td>22.7</td>\n",
       "      <td>0</td>\n",
       "      <td>0</td>\n",
       "      <td>northwest</td>\n",
       "      <td>21984.47</td>\n",
       "      <td>1</td>\n",
       "      <td>0</td>\n",
       "      <td>0</td>\n",
       "    </tr>\n",
       "    <tr>\n",
       "      <th>4</th>\n",
       "      <td>32</td>\n",
       "      <td>1</td>\n",
       "      <td>28.9</td>\n",
       "      <td>0</td>\n",
       "      <td>0</td>\n",
       "      <td>northwest</td>\n",
       "      <td>3866.86</td>\n",
       "      <td>1</td>\n",
       "      <td>0</td>\n",
       "      <td>0</td>\n",
       "    </tr>\n",
       "  </tbody>\n",
       "</table>\n",
       "</div>"
      ],
      "text/plain": [
       "   age  sex   bmi  children  smoker     region  expenses  northwest  \\\n",
       "0   19    0  27.9         0       1  southwest  16884.92          0   \n",
       "1   18    1  33.8         1       0  southeast   1725.55          0   \n",
       "2   28    1  33.0         3       0  southeast   4449.46          0   \n",
       "3   33    1  22.7         0       0  northwest  21984.47          1   \n",
       "4   32    1  28.9         0       0  northwest   3866.86          1   \n",
       "\n",
       "   southeast  southwest  \n",
       "0          0          1  \n",
       "1          1          0  \n",
       "2          1          0  \n",
       "3          0          0  \n",
       "4          0          0  "
      ]
     },
     "execution_count": 29,
     "metadata": {},
     "output_type": "execute_result"
    }
   ],
   "source": [
    "data.head()"
   ]
  },
  {
   "cell_type": "code",
   "execution_count": 30,
   "id": "adc1c6b5",
   "metadata": {},
   "outputs": [],
   "source": [
    "data.drop([\"region\"], axis=1, inplace=True)"
   ]
  },
  {
   "cell_type": "code",
   "execution_count": 31,
   "id": "902c06df",
   "metadata": {},
   "outputs": [
    {
     "data": {
      "text/html": [
       "<div>\n",
       "<style scoped>\n",
       "    .dataframe tbody tr th:only-of-type {\n",
       "        vertical-align: middle;\n",
       "    }\n",
       "\n",
       "    .dataframe tbody tr th {\n",
       "        vertical-align: top;\n",
       "    }\n",
       "\n",
       "    .dataframe thead th {\n",
       "        text-align: right;\n",
       "    }\n",
       "</style>\n",
       "<table border=\"1\" class=\"dataframe\">\n",
       "  <thead>\n",
       "    <tr style=\"text-align: right;\">\n",
       "      <th></th>\n",
       "      <th>age</th>\n",
       "      <th>sex</th>\n",
       "      <th>bmi</th>\n",
       "      <th>children</th>\n",
       "      <th>smoker</th>\n",
       "      <th>expenses</th>\n",
       "      <th>northwest</th>\n",
       "      <th>southeast</th>\n",
       "      <th>southwest</th>\n",
       "    </tr>\n",
       "  </thead>\n",
       "  <tbody>\n",
       "    <tr>\n",
       "      <th>0</th>\n",
       "      <td>19</td>\n",
       "      <td>0</td>\n",
       "      <td>27.9</td>\n",
       "      <td>0</td>\n",
       "      <td>1</td>\n",
       "      <td>16884.92</td>\n",
       "      <td>0</td>\n",
       "      <td>0</td>\n",
       "      <td>1</td>\n",
       "    </tr>\n",
       "    <tr>\n",
       "      <th>1</th>\n",
       "      <td>18</td>\n",
       "      <td>1</td>\n",
       "      <td>33.8</td>\n",
       "      <td>1</td>\n",
       "      <td>0</td>\n",
       "      <td>1725.55</td>\n",
       "      <td>0</td>\n",
       "      <td>1</td>\n",
       "      <td>0</td>\n",
       "    </tr>\n",
       "    <tr>\n",
       "      <th>2</th>\n",
       "      <td>28</td>\n",
       "      <td>1</td>\n",
       "      <td>33.0</td>\n",
       "      <td>3</td>\n",
       "      <td>0</td>\n",
       "      <td>4449.46</td>\n",
       "      <td>0</td>\n",
       "      <td>1</td>\n",
       "      <td>0</td>\n",
       "    </tr>\n",
       "    <tr>\n",
       "      <th>3</th>\n",
       "      <td>33</td>\n",
       "      <td>1</td>\n",
       "      <td>22.7</td>\n",
       "      <td>0</td>\n",
       "      <td>0</td>\n",
       "      <td>21984.47</td>\n",
       "      <td>1</td>\n",
       "      <td>0</td>\n",
       "      <td>0</td>\n",
       "    </tr>\n",
       "    <tr>\n",
       "      <th>4</th>\n",
       "      <td>32</td>\n",
       "      <td>1</td>\n",
       "      <td>28.9</td>\n",
       "      <td>0</td>\n",
       "      <td>0</td>\n",
       "      <td>3866.86</td>\n",
       "      <td>1</td>\n",
       "      <td>0</td>\n",
       "      <td>0</td>\n",
       "    </tr>\n",
       "  </tbody>\n",
       "</table>\n",
       "</div>"
      ],
      "text/plain": [
       "   age  sex   bmi  children  smoker  expenses  northwest  southeast  southwest\n",
       "0   19    0  27.9         0       1  16884.92          0          0          1\n",
       "1   18    1  33.8         1       0   1725.55          0          1          0\n",
       "2   28    1  33.0         3       0   4449.46          0          1          0\n",
       "3   33    1  22.7         0       0  21984.47          1          0          0\n",
       "4   32    1  28.9         0       0   3866.86          1          0          0"
      ]
     },
     "execution_count": 31,
     "metadata": {},
     "output_type": "execute_result"
    }
   ],
   "source": [
    "data.head()"
   ]
  },
  {
   "cell_type": "code",
   "execution_count": 32,
   "id": "c27341a5",
   "metadata": {},
   "outputs": [],
   "source": [
    "x = data.drop(\"expenses\", axis=1)"
   ]
  },
  {
   "cell_type": "code",
   "execution_count": 33,
   "id": "b5e2722d",
   "metadata": {},
   "outputs": [],
   "source": [
    "y = data[\"expenses\"]"
   ]
  },
  {
   "cell_type": "code",
   "execution_count": 34,
   "id": "90d2bdda",
   "metadata": {},
   "outputs": [
    {
     "data": {
      "text/html": [
       "<div>\n",
       "<style scoped>\n",
       "    .dataframe tbody tr th:only-of-type {\n",
       "        vertical-align: middle;\n",
       "    }\n",
       "\n",
       "    .dataframe tbody tr th {\n",
       "        vertical-align: top;\n",
       "    }\n",
       "\n",
       "    .dataframe thead th {\n",
       "        text-align: right;\n",
       "    }\n",
       "</style>\n",
       "<table border=\"1\" class=\"dataframe\">\n",
       "  <thead>\n",
       "    <tr style=\"text-align: right;\">\n",
       "      <th></th>\n",
       "      <th>age</th>\n",
       "      <th>sex</th>\n",
       "      <th>bmi</th>\n",
       "      <th>children</th>\n",
       "      <th>smoker</th>\n",
       "      <th>northwest</th>\n",
       "      <th>southeast</th>\n",
       "      <th>southwest</th>\n",
       "    </tr>\n",
       "  </thead>\n",
       "  <tbody>\n",
       "    <tr>\n",
       "      <th>0</th>\n",
       "      <td>19</td>\n",
       "      <td>0</td>\n",
       "      <td>27.9</td>\n",
       "      <td>0</td>\n",
       "      <td>1</td>\n",
       "      <td>0</td>\n",
       "      <td>0</td>\n",
       "      <td>1</td>\n",
       "    </tr>\n",
       "    <tr>\n",
       "      <th>1</th>\n",
       "      <td>18</td>\n",
       "      <td>1</td>\n",
       "      <td>33.8</td>\n",
       "      <td>1</td>\n",
       "      <td>0</td>\n",
       "      <td>0</td>\n",
       "      <td>1</td>\n",
       "      <td>0</td>\n",
       "    </tr>\n",
       "    <tr>\n",
       "      <th>2</th>\n",
       "      <td>28</td>\n",
       "      <td>1</td>\n",
       "      <td>33.0</td>\n",
       "      <td>3</td>\n",
       "      <td>0</td>\n",
       "      <td>0</td>\n",
       "      <td>1</td>\n",
       "      <td>0</td>\n",
       "    </tr>\n",
       "    <tr>\n",
       "      <th>3</th>\n",
       "      <td>33</td>\n",
       "      <td>1</td>\n",
       "      <td>22.7</td>\n",
       "      <td>0</td>\n",
       "      <td>0</td>\n",
       "      <td>1</td>\n",
       "      <td>0</td>\n",
       "      <td>0</td>\n",
       "    </tr>\n",
       "    <tr>\n",
       "      <th>4</th>\n",
       "      <td>32</td>\n",
       "      <td>1</td>\n",
       "      <td>28.9</td>\n",
       "      <td>0</td>\n",
       "      <td>0</td>\n",
       "      <td>1</td>\n",
       "      <td>0</td>\n",
       "      <td>0</td>\n",
       "    </tr>\n",
       "  </tbody>\n",
       "</table>\n",
       "</div>"
      ],
      "text/plain": [
       "   age  sex   bmi  children  smoker  northwest  southeast  southwest\n",
       "0   19    0  27.9         0       1          0          0          1\n",
       "1   18    1  33.8         1       0          0          1          0\n",
       "2   28    1  33.0         3       0          0          1          0\n",
       "3   33    1  22.7         0       0          1          0          0\n",
       "4   32    1  28.9         0       0          1          0          0"
      ]
     },
     "execution_count": 34,
     "metadata": {},
     "output_type": "execute_result"
    }
   ],
   "source": [
    "x.head()"
   ]
  },
  {
   "cell_type": "code",
   "execution_count": 35,
   "id": "fb8f7e5f",
   "metadata": {},
   "outputs": [
    {
     "data": {
      "text/plain": [
       "0       16884.92\n",
       "1        1725.55\n",
       "2        4449.46\n",
       "3       21984.47\n",
       "4        3866.86\n",
       "          ...   \n",
       "1333    10600.55\n",
       "1334     2205.98\n",
       "1335     1629.83\n",
       "1336     2007.95\n",
       "1337    29141.36\n",
       "Name: expenses, Length: 1338, dtype: float64"
      ]
     },
     "execution_count": 35,
     "metadata": {},
     "output_type": "execute_result"
    }
   ],
   "source": [
    "y"
   ]
  },
  {
   "cell_type": "code",
   "execution_count": 36,
   "id": "56f24192",
   "metadata": {},
   "outputs": [],
   "source": [
    "x_train , x_test , y_train , y_test = train_test_split(x, y , random_state=42)"
   ]
  },
  {
   "cell_type": "code",
   "execution_count": 37,
   "id": "edd2f808",
   "metadata": {},
   "outputs": [
    {
     "data": {
      "text/plain": [
       "1003"
      ]
     },
     "execution_count": 37,
     "metadata": {},
     "output_type": "execute_result"
    }
   ],
   "source": [
    "len(x_train)"
   ]
  },
  {
   "cell_type": "code",
   "execution_count": 38,
   "id": "84e5f4ee",
   "metadata": {},
   "outputs": [
    {
     "data": {
      "text/plain": [
       "335"
      ]
     },
     "execution_count": 38,
     "metadata": {},
     "output_type": "execute_result"
    }
   ],
   "source": [
    "len(x_test)"
   ]
  },
  {
   "cell_type": "code",
   "execution_count": 39,
   "id": "63ac8e7b",
   "metadata": {},
   "outputs": [],
   "source": [
    "lin_reg = LinearRegression()"
   ]
  },
  {
   "cell_type": "code",
   "execution_count": 40,
   "id": "e6dc1422",
   "metadata": {},
   "outputs": [
    {
     "data": {
      "text/plain": [
       "LinearRegression()"
      ]
     },
     "execution_count": 40,
     "metadata": {},
     "output_type": "execute_result"
    }
   ],
   "source": [
    "lin_reg.fit(x_train , y_train)"
   ]
  },
  {
   "cell_type": "code",
   "execution_count": 41,
   "id": "525928ac",
   "metadata": {},
   "outputs": [
    {
     "data": {
      "text/plain": [
       "array([0.76148215, 0.70650918, 0.7780752 , 0.73273236, 0.75559751])"
      ]
     },
     "execution_count": 41,
     "metadata": {},
     "output_type": "execute_result"
    }
   ],
   "source": [
    "score = cross_val_score(lin_reg, x, y, scoring=None , cv=5 )\n",
    "score"
   ]
  },
  {
   "cell_type": "code",
   "execution_count": 42,
   "id": "bdeec749",
   "metadata": {},
   "outputs": [
    {
     "data": {
      "text/plain": [
       "0.746879280539993"
      ]
     },
     "execution_count": 42,
     "metadata": {},
     "output_type": "execute_result"
    }
   ],
   "source": [
    "score.mean()"
   ]
  },
  {
   "cell_type": "code",
   "execution_count": 43,
   "id": "a1c6b69c",
   "metadata": {},
   "outputs": [],
   "source": [
    "y_pred1 = lin_reg.predict(x_test)"
   ]
  },
  {
   "cell_type": "code",
   "execution_count": 44,
   "id": "4c8c3140",
   "metadata": {},
   "outputs": [
    {
     "data": {
      "text/plain": [
       "array([ 8959.6084306 ,  7046.45362801, 36891.48904809,  9506.90730857,\n",
       "       26954.19089842, 10879.74213737,    83.72319655, 17046.37987336,\n",
       "        1007.26095132, 11305.48481656, 28036.21861587,  9447.62841339,\n",
       "        5092.95931077, 38386.14928012, 40230.32637772, 37029.22472316,\n",
       "       15164.87588709, 35775.06231692,  8996.43931864, 31439.69748057,\n",
       "        3792.14320072, 10141.90726745,  2309.8212006 ,  7097.73227673,\n",
       "       11315.61512709, 12991.81552164, 14505.87498443,  6126.41375662,\n",
       "        9954.71007435,  2025.92092508,  9049.47632417, 13110.09528025,\n",
       "        4390.81973429,  3370.10730059,  4417.94355211, 13114.27087227,\n",
       "        1850.66898786,  8751.77817571, 33251.23796365, 32489.0073563 ,\n",
       "        3786.56823819,  4360.16328021, 14132.20537616, 11533.36701176,\n",
       "        8711.23338962, 12135.25280246,  5229.66732583,  3028.9307404 ,\n",
       "       35431.85494545,  9075.7986008 , 15770.28626856,  2214.80440663,\n",
       "       12386.76583478,  1447.96559303, 13352.70944012, 12648.60815017,\n",
       "        4359.32503195, 32199.76769339, 13306.82331244, 12936.15642762,\n",
       "       14162.9771959 , 10368.26924959, 16431.40514741,  7758.17515525,\n",
       "       11860.7471924 ,  4002.74730477, 26568.45342452, 10875.41478469,\n",
       "        2068.20311129,  6181.89066236, 10806.05707051, 11632.62622036,\n",
       "       10856.39929342,  9079.17962514, 11921.91699494,  6585.37299957,\n",
       "        7274.38187615, 10776.99420422,  6415.89219636,  8696.99658488,\n",
       "        3632.87265355, 36704.43881013,  6288.91134061, 30786.97175803,\n",
       "       34769.03046356, 35322.70458301,  6931.58100632, 12976.32253296,\n",
       "        9955.30954579, 14524.49052617, 17757.88911622, 35138.72490747,\n",
       "       32987.64834561,  6186.40961537, 31914.13001775,  9486.72233743,\n",
       "       29309.09557073,  3485.36885593, 28257.52095069,  5785.65879462,\n",
       "        5371.75733362,  1754.41734651, 11464.0812172 , 15133.35953609,\n",
       "       11795.35773738,  4186.32134628,  9833.35849448, 31614.72824723,\n",
       "        -115.65129014, 32675.85807236,  3227.59632768, 10104.25318956,\n",
       "       14355.10217773, 31584.24669584, 11474.75333539,  3880.03895973,\n",
       "       13201.34051241, 31720.59168222,  8004.55752651,  3260.10554755,\n",
       "        8430.40828578, 10671.32858282, 15263.77290771,  5555.09259831,\n",
       "        3715.74738709, 10251.89141422, 10766.98730485, 11180.36540516,\n",
       "       14357.9413944 ,  7334.98375844,  5207.01979679,  9147.40174471,\n",
       "        9218.91452203, 12558.86701818,  8272.27497533, 15398.45325429,\n",
       "        8435.34452195, 31774.58613645, 35812.298839  , 31562.34049636,\n",
       "        5992.71181544, 12620.88821133,  5904.35248597, 14603.22529954,\n",
       "        2347.5512405 , 32949.86681419,  6317.01362271,  4937.71015641,\n",
       "       14396.53297333,  6924.38400935, 38715.43138401,  3025.6932825 ,\n",
       "        5765.00477614, 31688.41564816, 11595.61421927,  8524.99528734,\n",
       "       14910.267255  ,  9697.94016876, 26889.47321433, 33493.35525528,\n",
       "       14577.97733065,  1598.28186165, 13214.28183884,  2202.14446238,\n",
       "        5410.54167472, 11523.59888921, 39798.20761621, 36535.8670613 ,\n",
       "       34055.9083451 ,  3787.95547931,  7386.14917119,  8597.12514237,\n",
       "       12542.37460852,  4827.10345505,  1921.39462858, 32013.52390661,\n",
       "       25021.76788281, 17503.074372  , 26344.40540303, 10186.81154215,\n",
       "       37258.43586263,  -553.13608023,  6839.37411474,  7706.97958753,\n",
       "        4360.44131197,  5052.86931617,  5920.19961715,  4202.21763492,\n",
       "       15102.61591711, 11208.75562155,  6906.17521515,  2456.17862211,\n",
       "        1455.11482876, 31914.01145039, 16405.99771412, 11907.16003119,\n",
       "        1190.38180517, 12553.78237178,  1470.42015228,  8680.57498134,\n",
       "        1799.01203827, 33991.6667213 , 10787.70641819,  2614.50256828,\n",
       "       25434.43222124, 26145.03746845,  9502.80995375,  1735.12605034,\n",
       "       13247.35340167,   985.57188001, 10413.76303432, 10458.48113723,\n",
       "       17003.31029734, 26712.76557127,  6857.39673715,  5129.59636141,\n",
       "        5689.50407197, 13123.03325626, 10980.44167973,  8214.23092752,\n",
       "        5089.84206234, 12398.06417007, 13813.60389677, 35718.85486312,\n",
       "        4171.27979867, 28795.60069897, -1066.89137747,  2882.57736128,\n",
       "       10985.85546955, 15610.62619293,  5116.18194525,  6895.58156854,\n",
       "        3742.51706241, 31286.3784885 ,  7223.17403355, 12385.23736861,\n",
       "        5655.46659356,  9538.52285346, 36195.52539895,  4322.04925494,\n",
       "        9654.66957747, 31122.85983488,  5720.37849492,  4416.1069581 ,\n",
       "        1047.02710712,  4869.79957399,  4468.66640997,  6485.47335629,\n",
       "       18617.83732366, -1570.33158862,  2251.96816838, 10707.6802089 ,\n",
       "        3037.1576343 , 10201.51739424,  3671.77381542,  4938.30627742,\n",
       "       12443.92014279,  6248.3915536 ,  8272.14821375,  7553.46448286,\n",
       "        8923.4739327 , 10511.42293237, 27686.19979237, 39037.63680486,\n",
       "       11806.08751935,  7712.81497555, 40836.60149991, 12290.29302287,\n",
       "        7097.02807564,  8319.25127044,  9039.53538712, 10993.95981259,\n",
       "       10110.6013055 , 17583.38196347,   969.62783013, 23548.06219052,\n",
       "       12718.93384134, 33190.41128771,  5197.67007075, 13139.65501478,\n",
       "       10387.38054606, 17831.35705491,  9889.77652434, 11474.3268934 ,\n",
       "       32226.29859188,  3299.22112025, 13557.68538179, 39313.0288043 ,\n",
       "        5499.97531195,  6139.81566352,  3373.95374919, 11393.15940501,\n",
       "       25468.96570028, 14172.74876603,  9197.97619234, 10080.06889566,\n",
       "       13442.83775918,   905.26428854,  2338.99520317, 30646.45627664,\n",
       "       29969.64652933, 13532.08857503,  3690.6989401 , 25375.50746856,\n",
       "       13387.57861469, 30606.50245568,  3451.28026586, 38889.34587065,\n",
       "       11112.3178084 ,  4767.70919419,  6780.73878972,  2418.75443487,\n",
       "       25860.49526488, 14379.25147287,   502.53924506, 12767.05392529,\n",
       "       12617.21691863, 14967.31295706, 34949.60944709, 14383.96994778,\n",
       "       31506.39113398, 10003.98542059, 18208.31523275,  5932.26344039,\n",
       "        8860.47263315,  9335.45032842, 15229.72974481,  9057.31603101,\n",
       "        8386.43471411, 15042.59249067, 12815.89501518, 14823.5975644 ,\n",
       "        7446.58332867, 25983.23519938,  9186.63923519])"
      ]
     },
     "execution_count": 44,
     "metadata": {},
     "output_type": "execute_result"
    }
   ],
   "source": [
    "y_pred1"
   ]
  },
  {
   "cell_type": "code",
   "execution_count": 45,
   "id": "373a520f",
   "metadata": {},
   "outputs": [
    {
     "name": "stdout",
     "output_type": "stream",
     "text": [
      "MSE : 35116554.28433196\n",
      "MAE : 4243.465741508583\n",
      "R score : 0.6843648738685674\n"
     ]
    }
   ],
   "source": [
    "print(\"MSE :\", mean_squared_error(y_pred1 , y_test))\n",
    "print(\"MAE :\" , mean_absolute_error(y_pred1, y_test))\n",
    "print(\"R score :\", r2_score(y_pred1, y_test))"
   ]
  },
  {
   "cell_type": "markdown",
   "id": "99684f19",
   "metadata": {},
   "source": [
    "# Decision Tree"
   ]
  },
  {
   "cell_type": "code",
   "execution_count": 46,
   "id": "d25c3b07",
   "metadata": {},
   "outputs": [],
   "source": [
    "ds_tree = DecisionTreeRegressor()\n",
    "ds_tree.fit(x_train , y_train)\n",
    "y_pred2 = ds_tree.predict(x_test)"
   ]
  },
  {
   "cell_type": "code",
   "execution_count": 47,
   "id": "057e5c22",
   "metadata": {},
   "outputs": [
    {
     "data": {
      "text/plain": [
       "array([ 9447.25,  4571.41, 28950.47, 30284.64, 33732.69, 11326.71,\n",
       "        1737.38, 14692.67,  2457.5 , 10702.64, 19362.  ,  6600.36,\n",
       "        4040.56, 46200.99, 48970.25, 48885.14,  9549.57, 41676.08,\n",
       "        8515.76, 21348.71,  4877.98,  8520.03,  1639.56,  2166.73,\n",
       "       10702.64, 10338.93, 13228.85, 18157.88,  9447.25, 11774.16,\n",
       "        7243.81, 12430.95,  2026.97,  4906.41,  3490.55,  8342.91,\n",
       "        2331.52,  6849.03, 22218.11, 37742.58,  4561.19,  2639.04,\n",
       "       11394.07, 12323.94,  4949.76, 12913.99,  4830.63,  3906.13,\n",
       "       40273.65,  4673.39, 13887.97,  2801.26,  6393.6 ,  1708.  ,\n",
       "       10976.25, 10600.55,  3268.85, 39983.43, 12430.95, 29186.48,\n",
       "       13393.76,  4686.39, 31620.  ,  7729.65,  8280.62,  4337.74,\n",
       "       21472.48,  7742.11,  2842.76,  1526.31,  5488.26,  7633.72,\n",
       "        9722.77, 23563.02,  8083.92,  4399.73,  4661.29, 12629.17,\n",
       "        3981.98,  9447.25,  1532.47, 28950.47,  5253.52, 37484.45,\n",
       "       39722.75, 41919.1 ,  4949.76, 10976.25,  8219.2 , 11253.42,\n",
       "       14418.28, 26926.51, 38245.59,  5428.73, 55135.4 ,  6986.7 ,\n",
       "       19350.37,  1877.93, 17361.77,  6686.43,  4337.74,  1744.47,\n",
       "        6571.02, 13430.27, 13616.36,  1725.55,  8410.05, 22412.65,\n",
       "        1704.57, 22218.11,  1261.44,  3490.55, 12430.95, 37079.37,\n",
       "        9290.14, 26018.95, 13041.92, 21348.71,  6652.53, 12609.89,\n",
       "        5246.05,  7160.09,  9748.91,  2498.41,  5312.17,  6986.7 ,\n",
       "       18806.15,  9290.14, 21797.  ,  1824.29,  4415.16,  5584.31,\n",
       "        5584.31,  8023.14,  5910.94, 28287.9 ,  3935.18, 62592.87,\n",
       "       48885.14, 39836.52,  4571.41,  9140.95,  2498.41,  9748.91,\n",
       "        2464.62, 23807.24,  5257.51,  3989.84, 10848.13,  4747.05,\n",
       "       60021.4 ,  3046.06,  1149.4 , 37079.37,  5976.83,  3935.18,\n",
       "       14043.48,  8516.83, 36021.01, 40103.89, 13224.06,  2221.56,\n",
       "       16455.71, 23288.93,  4466.62,  7160.33, 48517.56, 45008.96,\n",
       "       39727.61, 18955.22,  9566.99,  5976.83,  5438.75,  4243.59,\n",
       "        2007.95, 21677.28, 16884.92, 14410.93, 16776.3 , 11833.78,\n",
       "       28950.47,  2585.27,  8627.54,  5246.05,  4449.46,  2850.68,\n",
       "        4040.56,  3353.28,  8023.14, 10796.35,  4466.62,  2200.83,\n",
       "        2527.82, 39241.44, 12982.87,  9140.95,  2709.24, 11881.36,\n",
       "        2196.47,  9861.03,  3176.82, 23568.27,  4686.39,  2803.7 ,\n",
       "       17560.38, 17904.53, 30284.64, 18838.7 ,  9058.73,  2457.5 ,\n",
       "       13451.12, 11833.78,  8347.16, 18033.97,  7160.33,  3943.6 ,\n",
       "        4562.84, 14001.13, 24513.09,  5246.05,  2134.9 ,  8342.91,\n",
       "        5846.92, 48885.14,  2254.8 , 37742.58,  1728.9 ,  1639.56,\n",
       "        9964.06, 11033.66,  1532.47,  9264.8 ,  3847.67, 23568.27,\n",
       "        9264.8 ,  9058.73,  4058.71,  6474.01, 45702.02,  2254.8 ,\n",
       "       13012.21, 39241.44,  3201.25,  3392.37,  1632.56,  2897.32,\n",
       "        3847.67,  5148.55, 11033.66,  1625.43,  2457.21,  7418.52,\n",
       "        3172.02, 11833.78,  2221.56,  3227.12, 13041.92, 12609.89,\n",
       "        9361.33,  5428.73,  8538.29, 13616.36, 19350.37, 46599.11,\n",
       "       11073.18,  5488.26, 47462.89,  9625.92,  8605.36,  9447.25,\n",
       "        8601.33, 24671.66, 12094.48, 13887.97,  2007.95, 14283.46,\n",
       "        6600.21, 40103.89,  7228.22,  9058.73,  8280.62, 14313.85,\n",
       "        8444.47,  9174.14, 37079.37,  2523.17,  9748.91, 47462.89,\n",
       "        4337.74,  2727.4 ,  2207.7 , 11554.22, 16420.49, 28468.92,\n",
       "        8442.67, 10577.09,  8978.19,  2457.5 ,  2156.75, 39611.76,\n",
       "       37079.37,  5846.92,  3056.39, 15518.18, 12928.79, 55135.4 ,\n",
       "        2128.43, 46599.11,  5846.92,  1631.82,  5989.52,  2801.26,\n",
       "       14571.89, 13470.86,  1964.78, 12495.29, 10976.25, 12231.61,\n",
       "       40419.02, 12269.69, 35069.37,  8538.29, 15555.19,  4149.74,\n",
       "        8515.76,  8703.46, 14590.63, 10577.09,  3385.4 , 10450.55,\n",
       "       13041.92, 11743.93,  4747.05, 33475.82,  6571.02])"
      ]
     },
     "execution_count": 47,
     "metadata": {},
     "output_type": "execute_result"
    }
   ],
   "source": [
    "y_pred2"
   ]
  },
  {
   "cell_type": "code",
   "execution_count": 48,
   "id": "125ef2fc",
   "metadata": {},
   "outputs": [
    {
     "name": "stdout",
     "output_type": "stream",
     "text": [
      "MSE : 42409805.73934419\n",
      "MAE : 2855.3357910447758\n",
      "R score : 0.7470995979787061\n"
     ]
    }
   ],
   "source": [
    "print(\"MSE :\", mean_squared_error(y_pred2 , y_test))\n",
    "print(\"MAE :\" , mean_absolute_error(y_pred2, y_test))\n",
    "print(\"R score :\", r2_score(y_pred2, y_test))"
   ]
  },
  {
   "cell_type": "markdown",
   "id": "078d7b8e",
   "metadata": {},
   "source": [
    "# Random Forest "
   ]
  },
  {
   "cell_type": "code",
   "execution_count": 49,
   "id": "65e2e7e5",
   "metadata": {},
   "outputs": [],
   "source": [
    "rf_reg = RandomForestRegressor()\n",
    "rf_reg.fit(x_train , y_train)\n",
    "y_pred3 = rf_reg.predict(x_test)"
   ]
  },
  {
   "cell_type": "code",
   "execution_count": 50,
   "id": "2067146a",
   "metadata": {},
   "outputs": [
    {
     "data": {
      "text/plain": [
       "array([11061.0917 ,  5101.8016 , 28300.6685 , 12186.7931 , 34206.9054 ,\n",
       "        7539.1805 ,  2099.562  , 14384.6091 ,  5783.7216 , 11034.0876 ,\n",
       "       19100.3152 ,  7140.8059 ,  4842.9152 , 45478.1077 , 48466.9708 ,\n",
       "       45004.2571 , 10874.421  , 42550.3379 ,  9772.6308 , 23465.7776 ,\n",
       "        8106.0798 ,  8795.6    ,  2179.1077 ,  2185.3439 , 11891.6439 ,\n",
       "       11130.8508 , 14185.3294 ,  6901.9003 , 11947.2061 ,  6472.40924,\n",
       "        7447.3049 , 12128.6865 ,  3160.5121 ,  5751.4117 ,  3747.0489 ,\n",
       "        9863.0316 ,  3101.8943 ,  8631.0398 , 24133.8888 , 39894.3292 ,\n",
       "        6824.8954 ,  3859.6313 , 13586.0038 , 15667.8051 ,  5843.4728 ,\n",
       "       16161.2852 , 15980.9875 ,  8758.451  , 42054.3342 ,  8883.8074 ,\n",
       "       14097.8475 ,  5012.35864,  7529.6657 ,  1692.445  , 11332.8028 ,\n",
       "       10555.8273 ,  3441.2489 , 43944.6835 , 11923.2369 , 14039.4363 ,\n",
       "       13765.7707 ,  6895.2464 , 21659.8738 ,  8132.7409 , 10495.4044 ,\n",
       "        6382.0877 , 18664.7401 , 13758.17   ,  7274.5895 ,  2889.9079 ,\n",
       "        7368.2586 ,  9024.3319 , 11618.9977 , 10644.7478 ,  9388.8825 ,\n",
       "        4900.7564 ,  7197.5036 , 12007.5866 ,  5358.7992 , 10923.7322 ,\n",
       "        2357.9265 , 27670.6891 ,  6060.8551 , 38277.0227 , 40704.3265 ,\n",
       "       41860.8116 ,  5666.499  , 10998.474  , 10514.4244 , 14577.7703 ,\n",
       "       18782.3331 , 27305.425  , 27618.4546 ,  5218.7397 , 46639.8275 ,\n",
       "        6967.8045 , 20162.2959 ,  2447.3927 , 18468.6858 ,  7383.2282 ,\n",
       "        4659.1332 ,  2005.4448 ,  6806.4299 , 14060.5159 , 14218.2823 ,\n",
       "        7991.7246 , 10899.2629 , 23954.1486 ,  1776.0662 , 24098.431  ,\n",
       "        1308.8936 ,  3486.0904 , 12850.06   , 41538.0972 , 10128.3547 ,\n",
       "        5384.1398 , 12604.5721 , 23987.6447 ,  7308.6092 ,  8553.1432 ,\n",
       "        6023.0394 ,  9178.2939 , 13111.7027 ,  2180.3612 ,  7942.345  ,\n",
       "        7425.4381 , 14419.2444 , 10804.9264 , 15958.5565 ,  2080.4022 ,\n",
       "        4326.7244 ,  7559.0909 ,  6899.5703 , 10103.5261 ,  6159.8091 ,\n",
       "       24083.215  ,  5446.8099 , 40588.4323 , 46707.9626 , 39473.471  ,\n",
       "        5146.5567 , 10499.6507 ,  2655.2364 , 16254.1161 ,  2604.8547 ,\n",
       "       24142.7816 ,  6195.0919 ,  4777.4317 , 12157.6803 ,  5134.7161 ,\n",
       "       50501.5425 ,  7534.6141 ,  1431.112  , 43808.5552 ,  8312.2734 ,\n",
       "        4901.8032 , 13380.3856 ,  9874.0107 , 35804.1652 , 40053.025  ,\n",
       "       14175.3035 ,  3591.6208 , 22085.4994 ,  5282.3689 ,  5543.4363 ,\n",
       "        8513.277  , 48160.7404 , 44651.7028 , 40458.3505 ,  7088.512  ,\n",
       "       11557.7629 ,  6653.1722 ,  7534.873  ,  4463.3143 ,  2821.8795 ,\n",
       "       23441.8139 , 17179.8028 , 14082.4096 , 16783.7007 , 11917.097  ,\n",
       "       27949.6025 ,  4132.3976 ,  9785.7539 ,  5283.3195 ,  6360.2982 ,\n",
       "        4968.3861 ,  5377.6976 ,  5308.0784 ,  9924.7627 , 12599.2925 ,\n",
       "        4306.5481 ,  4428.32995,  2701.943  , 47548.7235 , 13207.6467 ,\n",
       "       10343.0491 ,  3635.1773 , 13912.2836 ,  2170.4387 , 11042.789  ,\n",
       "        3561.2167 , 24405.7655 ,  7402.7079 ,  6475.1577 , 19248.6561 ,\n",
       "       19184.6302 , 12912.5347 ,  9972.38   , 11935.9901 ,  5008.2998 ,\n",
       "       13725.5045 , 14062.6807 ,  9159.7936 , 19621.0722 ,  9103.9987 ,\n",
       "        4367.7294 ,  5134.2996 , 15460.8389 , 15717.5996 ,  5935.8529 ,\n",
       "        2095.2953 ,  9862.4587 , 10112.3807 , 45623.9436 ,  2102.0361 ,\n",
       "       38564.6993 ,  1765.6164 ,  2026.0311 , 10380.8321 , 11416.9725 ,\n",
       "        3439.1839 , 10044.4735 ,  7644.6058 , 24408.9899 , 10101.2923 ,\n",
       "       10185.4253 ,  4873.8384 ,  6927.2829 , 45460.2108 ,  4900.5262 ,\n",
       "       13462.0006 , 41870.1459 ,  3744.6918 ,  3957.3405 ,  1663.4476 ,\n",
       "        3436.5107 ,  4469.8386 ,  4630.4128 , 13407.146  ,  2075.2287 ,\n",
       "        2623.23265,  7847.9974 ,  4106.0932 , 11686.7956 ,  3315.7382 ,\n",
       "        5188.9003 , 13357.7539 ,  5789.6156 ,  9107.3864 ,  6484.4645 ,\n",
       "        7803.6016 , 14983.4217 , 19508.552  , 47140.3716 , 12341.529  ,\n",
       "        5972.3441 , 46631.9666 ,  9997.0142 ,  9570.6506 , 14551.1314 ,\n",
       "       10825.4686 , 12130.4888 , 13452.8558 , 14315.3911 ,  2354.2815 ,\n",
       "       13996.2795 ,  8348.895  , 39895.1077 ,  6824.1613 ,  9660.9952 ,\n",
       "       11474.6216 , 14315.1313 , 12349.236  , 10561.1366 , 39803.898  ,\n",
       "        2845.7148 ,  9839.7938 , 48280.443  ,  4425.7157 ,  4597.3754 ,\n",
       "        2366.39155, 11402.7798 , 15913.1406 , 14106.1519 , 11069.1402 ,\n",
       "       13479.0553 , 10894.5398 ,  4567.8733 ,  3540.5107 , 39356.5173 ,\n",
       "       40307.3938 , 11289.4642 ,  9361.7881 , 16466.8941 , 15072.7013 ,\n",
       "       41048.6957 ,  3104.2134 , 47468.2759 ,  7958.0308 ,  1874.6113 ,\n",
       "        7089.6267 ,  6495.96234, 18035.77   , 13574.1286 ,  2325.0332 ,\n",
       "       14341.2593 , 11190.3896 , 12354.0133 , 42325.2557 , 12810.9821 ,\n",
       "       25292.7645 ,  7862.4272 , 16971.9972 ,  4500.4178 ,  9871.7276 ,\n",
       "       10213.6819 , 15187.3212 , 15848.6966 ,  3319.6179 , 12500.7714 ,\n",
       "       13049.8306 , 12166.6842 ,  5103.0314 , 33765.5765 ,  7026.6444 ])"
      ]
     },
     "execution_count": 50,
     "metadata": {},
     "output_type": "execute_result"
    }
   ],
   "source": [
    "y_pred3"
   ]
  },
  {
   "cell_type": "code",
   "execution_count": 51,
   "id": "232b7420",
   "metadata": {},
   "outputs": [
    {
     "name": "stdout",
     "output_type": "stream",
     "text": [
      "MSE : 22651182.04548407\n",
      "MAE : 2621.5912276716417\n",
      "R score : 0.84240411580333\n"
     ]
    }
   ],
   "source": [
    "print(\"MSE :\", mean_squared_error(y_pred3 , y_test))\n",
    "print(\"MAE :\" , mean_absolute_error(y_pred3, y_test))\n",
    "print(\"R score :\", r2_score(y_pred3, y_test))"
   ]
  },
  {
   "cell_type": "code",
   "execution_count": 52,
   "id": "9613134e",
   "metadata": {},
   "outputs": [
    {
     "data": {
      "image/png": "[encoded data removed]",
      "text/plain": [
       "<Figure size 432x288 with 1 Axes>"
      ]
     },
     "metadata": {
      "needs_background": "light"
     },
     "output_type": "display_data"
    }
   ],
   "source": [
    "r2_score = np.array([0.68 , 0.76, 0.83  ])\n",
    "labels = np.array([\"Linear Regression\" , \"Decision Tree\" , \"RandomForest\"])\n",
    "index = np.argsort(r2_score)\n",
    "color = plt.cm.rainbow(np.linspace(0, 1, 4))\n",
    "\n",
    "plt.bar(range(len(index)) , r2_score[index], color = color )\n",
    "plt.xticks(range(0,3),[\"Linear Regression\" , \"Decision Tree\" , \"RandomForest\"])\n",
    "plt.title(\"Comparing all models r2 Score\")\n",
    "plt.show()"
   ]
  },
  {
   "cell_type": "code",
   "execution_count": 53,
   "id": "abca508e",
   "metadata": {},
   "outputs": [],
   "source": [
    "# open a file where you want to store\n",
    "file = open(\"random_forest_regressor.pkl\", \"wb\")\n",
    "\n",
    "# dump information to that file\n",
    "pickle.dump(\"rf_random\", file)"
   ]
  },
  {
   "cell_type": "code",
   "execution_count": null,
   "id": "f98e5260",
   "metadata": {},
   "outputs": [],
   "source": []
  }
 ],
 "metadata": {
  "kernelspec": {
   "display_name": "Python 3",
   "language": "python",
   "name": "python3"
  },
  "language_info": {
   "codemirror_mode": {
    "name": "ipython",
    "version": 3
   },
   "file_extension": ".py",
   "mimetype": "text/x-python",
   "name": "python",
   "nbconvert_exporter": "python",
   "pygments_lexer": "ipython3",
   "version": "3.8.8"
  }
 },
 "nbformat": 4,
 "nbformat_minor": 5
}
